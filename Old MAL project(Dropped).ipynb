{
 "cells": [
  {
   "cell_type": "code",
   "execution_count": 1,
   "id": "7fd5642d",
   "metadata": {},
   "outputs": [],
   "source": [
    "import pandas as pd\n",
    "import requests as r"
   ]
  },
  {
   "cell_type": "code",
   "execution_count": 2,
   "id": "0d833071",
   "metadata": {},
   "outputs": [],
   "source": [
    "anime_data = []"
   ]
  },
  {
   "cell_type": "code",
   "execution_count": 3,
   "id": "58584c5d",
   "metadata": {},
   "outputs": [],
   "source": [
    "for pages in [1,2,3,4,5,6,7,8]:\n",
    "    url = 'https://api.jikan.moe/v4/top/anime?page=' + str(pages)\n",
    "    mal_anime = r.get(url)\n",
    "    jmal_anime = mal_anime.json()\n",
    "    anime_data = anime_data+jmal_anime['data']"
   ]
  },
  {
   "cell_type": "code",
   "execution_count": 4,
   "id": "035145b1",
   "metadata": {
    "scrolled": true
   },
   "outputs": [
    {
     "name": "stdout",
     "output_type": "stream",
     "text": [
      "<class 'pandas.core.frame.DataFrame'>\n",
      "RangeIndex: 200 entries, 0 to 199\n",
      "Data columns (total 57 columns):\n",
      " #   Column                            Non-Null Count  Dtype  \n",
      "---  ------                            --------------  -----  \n",
      " 0   mal_id                            200 non-null    int64  \n",
      " 1   url                               200 non-null    object \n",
      " 2   title                             200 non-null    object \n",
      " 3   title_english                     167 non-null    object \n",
      " 4   title_japanese                    200 non-null    object \n",
      " 5   title_synonyms                    200 non-null    object \n",
      " 6   type                              200 non-null    object \n",
      " 7   source                            200 non-null    object \n",
      " 8   episodes                          196 non-null    float64\n",
      " 9   status                            200 non-null    object \n",
      " 10  airing                            200 non-null    bool   \n",
      " 11  duration                          200 non-null    object \n",
      " 12  rating                            200 non-null    object \n",
      " 13  score                             200 non-null    float64\n",
      " 14  scored_by                         200 non-null    int64  \n",
      " 15  rank                              200 non-null    int64  \n",
      " 16  popularity                        200 non-null    int64  \n",
      " 17  members                           200 non-null    int64  \n",
      " 18  favorites                         200 non-null    int64  \n",
      " 19  synopsis                          200 non-null    object \n",
      " 20  background                        84 non-null     object \n",
      " 21  season                            132 non-null    object \n",
      " 22  year                              132 non-null    float64\n",
      " 23  producers                         200 non-null    object \n",
      " 24  licensors                         200 non-null    object \n",
      " 25  studios                           200 non-null    object \n",
      " 26  genres                            200 non-null    object \n",
      " 27  explicit_genres                   200 non-null    object \n",
      " 28  themes                            200 non-null    object \n",
      " 29  demographics                      200 non-null    object \n",
      " 30  images.jpg.image_url              200 non-null    object \n",
      " 31  images.jpg.small_image_url        200 non-null    object \n",
      " 32  images.jpg.large_image_url        200 non-null    object \n",
      " 33  images.webp.image_url             200 non-null    object \n",
      " 34  images.webp.small_image_url       200 non-null    object \n",
      " 35  images.webp.large_image_url       200 non-null    object \n",
      " 36  trailer.youtube_id                164 non-null    object \n",
      " 37  trailer.url                       164 non-null    object \n",
      " 38  trailer.embed_url                 164 non-null    object \n",
      " 39  trailer.images.image_url          164 non-null    object \n",
      " 40  trailer.images.small_image_url    164 non-null    object \n",
      " 41  trailer.images.medium_image_url   164 non-null    object \n",
      " 42  trailer.images.large_image_url    164 non-null    object \n",
      " 43  trailer.images.maximum_image_url  164 non-null    object \n",
      " 44  aired.from                        200 non-null    object \n",
      " 45  aired.to                          142 non-null    object \n",
      " 46  aired.prop.from.day               200 non-null    int64  \n",
      " 47  aired.prop.from.month             200 non-null    int64  \n",
      " 48  aired.prop.from.year              200 non-null    int64  \n",
      " 49  aired.prop.to.day                 142 non-null    float64\n",
      " 50  aired.prop.to.month               142 non-null    float64\n",
      " 51  aired.prop.to.year                142 non-null    float64\n",
      " 52  aired.string                      200 non-null    object \n",
      " 53  broadcast.day                     117 non-null    object \n",
      " 54  broadcast.time                    117 non-null    object \n",
      " 55  broadcast.timezone                117 non-null    object \n",
      " 56  broadcast.string                  132 non-null    object \n",
      "dtypes: bool(1), float64(6), int64(9), object(41)\n",
      "memory usage: 87.8+ KB\n"
     ]
    }
   ],
   "source": [
    "dfa = pd.json_normalize(anime_data)\n",
    "dfa.info()"
   ]
  },
  {
   "cell_type": "code",
   "execution_count": 5,
   "id": "d77db93b",
   "metadata": {},
   "outputs": [
    {
     "name": "stdout",
     "output_type": "stream",
     "text": [
      "\f",
      "\n"
     ]
    }
   ],
   "source": [
    "clear()"
   ]
  },
  {
   "cell_type": "code",
   "execution_count": 6,
   "id": "bf5b1340",
   "metadata": {},
   "outputs": [],
   "source": [
    "cols=[0,1,3,4,5,6,7,10,11,14,16,17,18,19,20,23,24,27,28,30,31,32,33,34,35,36,37,38,39,40,41,42,43,44,45,46,47,48,49,50,51,52,53,54,55,56]\n",
    "dfa_new = dfa.drop(dfa.columns[cols],axis=1,inplace=False)"
   ]
  },
  {
   "cell_type": "code",
   "execution_count": 7,
   "id": "0c07ee9d",
   "metadata": {},
   "outputs": [
    {
     "name": "stdout",
     "output_type": "stream",
     "text": [
      "<class 'pandas.core.frame.DataFrame'>\n",
      "RangeIndex: 200 entries, 0 to 199\n",
      "Data columns (total 11 columns):\n",
      " #   Column        Non-Null Count  Dtype  \n",
      "---  ------        --------------  -----  \n",
      " 0   title         200 non-null    object \n",
      " 1   episodes      196 non-null    float64\n",
      " 2   status        200 non-null    object \n",
      " 3   rating        200 non-null    object \n",
      " 4   score         200 non-null    float64\n",
      " 5   rank          200 non-null    int64  \n",
      " 6   season        132 non-null    object \n",
      " 7   year          132 non-null    float64\n",
      " 8   studios       200 non-null    object \n",
      " 9   genres        200 non-null    object \n",
      " 10  demographics  200 non-null    object \n",
      "dtypes: float64(3), int64(1), object(7)\n",
      "memory usage: 17.3+ KB\n"
     ]
    }
   ],
   "source": [
    "dfa_new.info()"
   ]
  },
  {
   "cell_type": "code",
   "execution_count": 8,
   "id": "79cccbc6",
   "metadata": {},
   "outputs": [],
   "source": [
    "dfa_new[\"season\"].fillna(value = 'Out of Season', inplace = True)"
   ]
  },
  {
   "cell_type": "code",
   "execution_count": 9,
   "id": "62c2d68e",
   "metadata": {
    "scrolled": true
   },
   "outputs": [],
   "source": [
    "missing_mask = dfa_new['episodes'].isna()\n",
    "# Finds all NaN values in 'episodes' column and determines whether there are NaN values (boolean T/F)\n",
    "mapping_dict = dict({'Currently Airing':'Currently Airing'})\n",
    "# creates a dicitionary which finds all 'Currently Aiting' values and will allow for those values to be replaced to 'Currently Airing'\n",
    "dfa_new.loc[missing_mask,'episodes'] = dfa_new.loc[missing_mask,'status'].map(mapping_dict)\n",
    "# creates a slice of the 'episodes' column which have NaN values and creates a loop with the map command\n",
    "# to go through the entire column\n",
    "dfa_new['episodes'] = dfa_new['episodes'].fillna('Currently Airing')\n",
    "# uses the fillna command to fill all NaN values with 'Currently Airing'"
   ]
  },
  {
   "cell_type": "code",
   "execution_count": 10,
   "id": "23df6912",
   "metadata": {},
   "outputs": [
    {
     "data": {
      "text/plain": [
       "[{'mal_id': 4,\n",
       "  'type': 'anime',\n",
       "  'name': 'Bones',\n",
       "  'url': 'https://myanimelist.net/anime/producer/4/Bones'}]"
      ]
     },
     "execution_count": 10,
     "metadata": {},
     "output_type": "execute_result"
    }
   ],
   "source": [
    "dfa_new['studios'][0]"
   ]
  },
  {
   "cell_type": "code",
   "execution_count": 11,
   "id": "dc9c03fe",
   "metadata": {},
   "outputs": [],
   "source": [
    "dfa_new['studios'] = dfa_new['studios'].map(lambda studios: [studio['name'] for studio in studios])\n",
    "# takes the first value of the 'studios' column and creates a map \n",
    "# similar to the above one where it loops through the entire column.\n",
    "# the map allows for a function which uses a custom function (lambda) to take only the studios' name in the dictionary"
   ]
  },
  {
   "cell_type": "code",
   "execution_count": 12,
   "id": "08be8a1a",
   "metadata": {},
   "outputs": [],
   "source": [
    "dfa_new['genres'] = dfa_new['genres'].map(lambda genres: [genre['name'] for genre in genres])"
   ]
  },
  {
   "cell_type": "code",
   "execution_count": 13,
   "id": "d3b7cf9d",
   "metadata": {},
   "outputs": [],
   "source": [
    "dfa_new['demographics'] = dfa_new['demographics'].map(lambda demographics: [demographic['name'] for demographic in demographics])"
   ]
  },
  {
   "cell_type": "code",
   "execution_count": 14,
   "id": "b3dc21a8",
   "metadata": {},
   "outputs": [],
   "source": [
    "dfa_new.to_excel(r'C:\\Users\\hirok\\OneDrive\\Documents\\Data Analysis\\MAL Project\\dfa_new.xlsx',index = False, header = True)"
   ]
  },
  {
   "cell_type": "code",
   "execution_count": 15,
   "id": "2289d461",
   "metadata": {},
   "outputs": [
    {
     "data": {
      "text/html": [
       "<div>\n",
       "<style scoped>\n",
       "    .dataframe tbody tr th:only-of-type {\n",
       "        vertical-align: middle;\n",
       "    }\n",
       "\n",
       "    .dataframe tbody tr th {\n",
       "        vertical-align: top;\n",
       "    }\n",
       "\n",
       "    .dataframe thead th {\n",
       "        text-align: right;\n",
       "    }\n",
       "</style>\n",
       "<table border=\"1\" class=\"dataframe\">\n",
       "  <thead>\n",
       "    <tr style=\"text-align: right;\">\n",
       "      <th></th>\n",
       "      <th>title</th>\n",
       "      <th>episodes</th>\n",
       "      <th>status</th>\n",
       "      <th>rating</th>\n",
       "      <th>score</th>\n",
       "      <th>rank</th>\n",
       "      <th>season</th>\n",
       "      <th>year</th>\n",
       "      <th>studios</th>\n",
       "      <th>genres</th>\n",
       "      <th>demographics</th>\n",
       "    </tr>\n",
       "  </thead>\n",
       "  <tbody>\n",
       "    <tr>\n",
       "      <th>0</th>\n",
       "      <td>Fullmetal Alchemist: Brotherhood</td>\n",
       "      <td>64.0</td>\n",
       "      <td>Finished Airing</td>\n",
       "      <td>R - 17+ (violence &amp; profanity)</td>\n",
       "      <td>9.14</td>\n",
       "      <td>1</td>\n",
       "      <td>spring</td>\n",
       "      <td>2009.0</td>\n",
       "      <td>[Bones]</td>\n",
       "      <td>[Action, Adventure, Drama, Fantasy]</td>\n",
       "      <td>[Shounen]</td>\n",
       "    </tr>\n",
       "    <tr>\n",
       "      <th>1</th>\n",
       "      <td>Gintama°</td>\n",
       "      <td>51.0</td>\n",
       "      <td>Finished Airing</td>\n",
       "      <td>PG-13 - Teens 13 or older</td>\n",
       "      <td>9.09</td>\n",
       "      <td>2</td>\n",
       "      <td>spring</td>\n",
       "      <td>2015.0</td>\n",
       "      <td>[Bandai Namco Pictures]</td>\n",
       "      <td>[Action, Comedy, Sci-Fi]</td>\n",
       "      <td>[Shounen]</td>\n",
       "    </tr>\n",
       "    <tr>\n",
       "      <th>2</th>\n",
       "      <td>Spy x Family</td>\n",
       "      <td>12.0</td>\n",
       "      <td>Currently Airing</td>\n",
       "      <td>PG-13 - Teens 13 or older</td>\n",
       "      <td>9.09</td>\n",
       "      <td>3</td>\n",
       "      <td>spring</td>\n",
       "      <td>2022.0</td>\n",
       "      <td>[Wit Studio, CloverWorks]</td>\n",
       "      <td>[Action, Comedy]</td>\n",
       "      <td>[Shounen]</td>\n",
       "    </tr>\n",
       "    <tr>\n",
       "      <th>3</th>\n",
       "      <td>Shingeki no Kyojin Season 3 Part 2</td>\n",
       "      <td>10.0</td>\n",
       "      <td>Finished Airing</td>\n",
       "      <td>R - 17+ (violence &amp; profanity)</td>\n",
       "      <td>9.08</td>\n",
       "      <td>4</td>\n",
       "      <td>spring</td>\n",
       "      <td>2019.0</td>\n",
       "      <td>[Wit Studio]</td>\n",
       "      <td>[Action, Drama]</td>\n",
       "      <td>[Shounen]</td>\n",
       "    </tr>\n",
       "    <tr>\n",
       "      <th>4</th>\n",
       "      <td>Steins;Gate</td>\n",
       "      <td>24.0</td>\n",
       "      <td>Finished Airing</td>\n",
       "      <td>PG-13 - Teens 13 or older</td>\n",
       "      <td>9.08</td>\n",
       "      <td>5</td>\n",
       "      <td>spring</td>\n",
       "      <td>2011.0</td>\n",
       "      <td>[White Fox]</td>\n",
       "      <td>[Drama, Sci-Fi, Suspense]</td>\n",
       "      <td>[]</td>\n",
       "    </tr>\n",
       "    <tr>\n",
       "      <th>...</th>\n",
       "      <td>...</td>\n",
       "      <td>...</td>\n",
       "      <td>...</td>\n",
       "      <td>...</td>\n",
       "      <td>...</td>\n",
       "      <td>...</td>\n",
       "      <td>...</td>\n",
       "      <td>...</td>\n",
       "      <td>...</td>\n",
       "      <td>...</td>\n",
       "      <td>...</td>\n",
       "    </tr>\n",
       "    <tr>\n",
       "      <th>195</th>\n",
       "      <td>Kiseijuu: Sei no Kakuritsu</td>\n",
       "      <td>24.0</td>\n",
       "      <td>Finished Airing</td>\n",
       "      <td>R - 17+ (violence &amp; profanity)</td>\n",
       "      <td>8.35</td>\n",
       "      <td>196</td>\n",
       "      <td>fall</td>\n",
       "      <td>2014.0</td>\n",
       "      <td>[Madhouse]</td>\n",
       "      <td>[Action, Horror, Sci-Fi]</td>\n",
       "      <td>[Seinen]</td>\n",
       "    </tr>\n",
       "    <tr>\n",
       "      <th>196</th>\n",
       "      <td>Psycho-Pass</td>\n",
       "      <td>22.0</td>\n",
       "      <td>Finished Airing</td>\n",
       "      <td>R - 17+ (violence &amp; profanity)</td>\n",
       "      <td>8.35</td>\n",
       "      <td>197</td>\n",
       "      <td>fall</td>\n",
       "      <td>2012.0</td>\n",
       "      <td>[Production I.G]</td>\n",
       "      <td>[Action, Sci-Fi, Suspense]</td>\n",
       "      <td>[]</td>\n",
       "    </tr>\n",
       "    <tr>\n",
       "      <th>197</th>\n",
       "      <td>Natsume Yuujinchou: Itsuka Yuki no Hi ni</td>\n",
       "      <td>1.0</td>\n",
       "      <td>Finished Airing</td>\n",
       "      <td>PG-13 - Teens 13 or older</td>\n",
       "      <td>8.34</td>\n",
       "      <td>198</td>\n",
       "      <td>Out of Season</td>\n",
       "      <td>NaN</td>\n",
       "      <td>[Brain's Base]</td>\n",
       "      <td>[Drama, Slice of Life, Supernatural]</td>\n",
       "      <td>[Shoujo]</td>\n",
       "    </tr>\n",
       "    <tr>\n",
       "      <th>198</th>\n",
       "      <td>Neon Genesis Evangelion</td>\n",
       "      <td>26.0</td>\n",
       "      <td>Finished Airing</td>\n",
       "      <td>PG-13 - Teens 13 or older</td>\n",
       "      <td>8.34</td>\n",
       "      <td>200</td>\n",
       "      <td>fall</td>\n",
       "      <td>1995.0</td>\n",
       "      <td>[Gainax, Tatsunoko Production]</td>\n",
       "      <td>[Action, Avant Garde, Drama, Sci-Fi]</td>\n",
       "      <td>[]</td>\n",
       "    </tr>\n",
       "    <tr>\n",
       "      <th>199</th>\n",
       "      <td>One Outs</td>\n",
       "      <td>25.0</td>\n",
       "      <td>Finished Airing</td>\n",
       "      <td>PG-13 - Teens 13 or older</td>\n",
       "      <td>8.34</td>\n",
       "      <td>201</td>\n",
       "      <td>fall</td>\n",
       "      <td>2008.0</td>\n",
       "      <td>[Madhouse]</td>\n",
       "      <td>[Sports]</td>\n",
       "      <td>[Seinen]</td>\n",
       "    </tr>\n",
       "  </tbody>\n",
       "</table>\n",
       "<p>200 rows × 11 columns</p>\n",
       "</div>"
      ],
      "text/plain": [
       "                                        title episodes            status  \\\n",
       "0            Fullmetal Alchemist: Brotherhood     64.0   Finished Airing   \n",
       "1                                    Gintama°     51.0   Finished Airing   \n",
       "2                                Spy x Family     12.0  Currently Airing   \n",
       "3          Shingeki no Kyojin Season 3 Part 2     10.0   Finished Airing   \n",
       "4                                 Steins;Gate     24.0   Finished Airing   \n",
       "..                                        ...      ...               ...   \n",
       "195                Kiseijuu: Sei no Kakuritsu     24.0   Finished Airing   \n",
       "196                               Psycho-Pass     22.0   Finished Airing   \n",
       "197  Natsume Yuujinchou: Itsuka Yuki no Hi ni      1.0   Finished Airing   \n",
       "198                   Neon Genesis Evangelion     26.0   Finished Airing   \n",
       "199                                  One Outs     25.0   Finished Airing   \n",
       "\n",
       "                             rating  score  rank         season    year  \\\n",
       "0    R - 17+ (violence & profanity)   9.14     1         spring  2009.0   \n",
       "1         PG-13 - Teens 13 or older   9.09     2         spring  2015.0   \n",
       "2         PG-13 - Teens 13 or older   9.09     3         spring  2022.0   \n",
       "3    R - 17+ (violence & profanity)   9.08     4         spring  2019.0   \n",
       "4         PG-13 - Teens 13 or older   9.08     5         spring  2011.0   \n",
       "..                              ...    ...   ...            ...     ...   \n",
       "195  R - 17+ (violence & profanity)   8.35   196           fall  2014.0   \n",
       "196  R - 17+ (violence & profanity)   8.35   197           fall  2012.0   \n",
       "197       PG-13 - Teens 13 or older   8.34   198  Out of Season     NaN   \n",
       "198       PG-13 - Teens 13 or older   8.34   200           fall  1995.0   \n",
       "199       PG-13 - Teens 13 or older   8.34   201           fall  2008.0   \n",
       "\n",
       "                            studios                                genres  \\\n",
       "0                           [Bones]   [Action, Adventure, Drama, Fantasy]   \n",
       "1           [Bandai Namco Pictures]              [Action, Comedy, Sci-Fi]   \n",
       "2         [Wit Studio, CloverWorks]                      [Action, Comedy]   \n",
       "3                      [Wit Studio]                       [Action, Drama]   \n",
       "4                       [White Fox]             [Drama, Sci-Fi, Suspense]   \n",
       "..                              ...                                   ...   \n",
       "195                      [Madhouse]              [Action, Horror, Sci-Fi]   \n",
       "196                [Production I.G]            [Action, Sci-Fi, Suspense]   \n",
       "197                  [Brain's Base]  [Drama, Slice of Life, Supernatural]   \n",
       "198  [Gainax, Tatsunoko Production]  [Action, Avant Garde, Drama, Sci-Fi]   \n",
       "199                      [Madhouse]                              [Sports]   \n",
       "\n",
       "    demographics  \n",
       "0      [Shounen]  \n",
       "1      [Shounen]  \n",
       "2      [Shounen]  \n",
       "3      [Shounen]  \n",
       "4             []  \n",
       "..           ...  \n",
       "195     [Seinen]  \n",
       "196           []  \n",
       "197     [Shoujo]  \n",
       "198           []  \n",
       "199     [Seinen]  \n",
       "\n",
       "[200 rows x 11 columns]"
      ]
     },
     "execution_count": 15,
     "metadata": {},
     "output_type": "execute_result"
    }
   ],
   "source": [
    "dfa_new"
   ]
  },
  {
   "cell_type": "code",
   "execution_count": 16,
   "id": "e17b18cb",
   "metadata": {},
   "outputs": [
    {
     "name": "stdout",
     "output_type": "stream",
     "text": [
      "<class 'pandas.core.frame.DataFrame'>\n",
      "RangeIndex: 200 entries, 0 to 199\n",
      "Data columns (total 11 columns):\n",
      " #   Column        Non-Null Count  Dtype  \n",
      "---  ------        --------------  -----  \n",
      " 0   title         200 non-null    object \n",
      " 1   episodes      200 non-null    object \n",
      " 2   status        200 non-null    object \n",
      " 3   rating        200 non-null    object \n",
      " 4   score         200 non-null    float64\n",
      " 5   rank          200 non-null    int64  \n",
      " 6   season        200 non-null    object \n",
      " 7   year          132 non-null    float64\n",
      " 8   studios       200 non-null    object \n",
      " 9   genres        200 non-null    object \n",
      " 10  demographics  200 non-null    object \n",
      "dtypes: float64(2), int64(1), object(8)\n",
      "memory usage: 17.3+ KB\n"
     ]
    }
   ],
   "source": [
    "dfa_new.info()"
   ]
  },
  {
   "cell_type": "code",
   "execution_count": 17,
   "id": "27e9c0db",
   "metadata": {},
   "outputs": [],
   "source": [
    "colz = [1,2,3,4,6,7,8]"
   ]
  },
  {
   "cell_type": "code",
   "execution_count": 18,
   "id": "150d60c3",
   "metadata": {},
   "outputs": [],
   "source": [
    "dfa_use = dfa_new.drop(dfa_new.columns[colz],axis=1,inplace=False)"
   ]
  },
  {
   "cell_type": "code",
   "execution_count": 19,
   "id": "c877305d",
   "metadata": {},
   "outputs": [
    {
     "data": {
      "text/html": [
       "<div>\n",
       "<style scoped>\n",
       "    .dataframe tbody tr th:only-of-type {\n",
       "        vertical-align: middle;\n",
       "    }\n",
       "\n",
       "    .dataframe tbody tr th {\n",
       "        vertical-align: top;\n",
       "    }\n",
       "\n",
       "    .dataframe thead th {\n",
       "        text-align: right;\n",
       "    }\n",
       "</style>\n",
       "<table border=\"1\" class=\"dataframe\">\n",
       "  <thead>\n",
       "    <tr style=\"text-align: right;\">\n",
       "      <th></th>\n",
       "      <th>title</th>\n",
       "      <th>rank</th>\n",
       "      <th>genres</th>\n",
       "      <th>demographics</th>\n",
       "    </tr>\n",
       "  </thead>\n",
       "  <tbody>\n",
       "    <tr>\n",
       "      <th>0</th>\n",
       "      <td>Fullmetal Alchemist: Brotherhood</td>\n",
       "      <td>1</td>\n",
       "      <td>[Action, Adventure, Drama, Fantasy]</td>\n",
       "      <td>[Shounen]</td>\n",
       "    </tr>\n",
       "    <tr>\n",
       "      <th>1</th>\n",
       "      <td>Gintama°</td>\n",
       "      <td>2</td>\n",
       "      <td>[Action, Comedy, Sci-Fi]</td>\n",
       "      <td>[Shounen]</td>\n",
       "    </tr>\n",
       "    <tr>\n",
       "      <th>2</th>\n",
       "      <td>Spy x Family</td>\n",
       "      <td>3</td>\n",
       "      <td>[Action, Comedy]</td>\n",
       "      <td>[Shounen]</td>\n",
       "    </tr>\n",
       "    <tr>\n",
       "      <th>3</th>\n",
       "      <td>Shingeki no Kyojin Season 3 Part 2</td>\n",
       "      <td>4</td>\n",
       "      <td>[Action, Drama]</td>\n",
       "      <td>[Shounen]</td>\n",
       "    </tr>\n",
       "    <tr>\n",
       "      <th>4</th>\n",
       "      <td>Steins;Gate</td>\n",
       "      <td>5</td>\n",
       "      <td>[Drama, Sci-Fi, Suspense]</td>\n",
       "      <td>[]</td>\n",
       "    </tr>\n",
       "  </tbody>\n",
       "</table>\n",
       "</div>"
      ],
      "text/plain": [
       "                                title  rank  \\\n",
       "0    Fullmetal Alchemist: Brotherhood     1   \n",
       "1                            Gintama°     2   \n",
       "2                        Spy x Family     3   \n",
       "3  Shingeki no Kyojin Season 3 Part 2     4   \n",
       "4                         Steins;Gate     5   \n",
       "\n",
       "                                genres demographics  \n",
       "0  [Action, Adventure, Drama, Fantasy]    [Shounen]  \n",
       "1             [Action, Comedy, Sci-Fi]    [Shounen]  \n",
       "2                     [Action, Comedy]    [Shounen]  \n",
       "3                      [Action, Drama]    [Shounen]  \n",
       "4            [Drama, Sci-Fi, Suspense]           []  "
      ]
     },
     "execution_count": 19,
     "metadata": {},
     "output_type": "execute_result"
    }
   ],
   "source": [
    "dfa_use.head()"
   ]
  },
  {
   "cell_type": "code",
   "execution_count": 20,
   "id": "5ebd05b1",
   "metadata": {},
   "outputs": [],
   "source": [
    "dfa_use.to_excel(r'C:\\Users\\hirok\\OneDrive\\Documents\\Data Analysis\\MAL Project\\dfa_use.xlsx',index = False, header = True)"
   ]
  },
  {
   "cell_type": "code",
   "execution_count": null,
   "id": "37e78ce8",
   "metadata": {},
   "outputs": [],
   "source": []
  },
  {
   "cell_type": "code",
   "execution_count": null,
   "id": "d67e9fb6",
   "metadata": {},
   "outputs": [],
   "source": []
  }
 ],
 "metadata": {
  "kernelspec": {
   "display_name": "Python 3 (ipykernel)",
   "language": "python",
   "name": "python3"
  },
  "language_info": {
   "codemirror_mode": {
    "name": "ipython",
    "version": 3
   },
   "file_extension": ".py",
   "mimetype": "text/x-python",
   "name": "python",
   "nbconvert_exporter": "python",
   "pygments_lexer": "ipython3",
   "version": "3.9.5"
  }
 },
 "nbformat": 4,
 "nbformat_minor": 5
}
