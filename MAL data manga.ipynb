{
 "cells": [
  {
   "cell_type": "code",
   "execution_count": 33,
   "id": "1cafabd4",
   "metadata": {},
   "outputs": [],
   "source": [
    "import pandas as pd\n",
    "import requests as r\n",
    "from IPython.display import display\n",
    "import numpy as np"
   ]
  },
  {
   "cell_type": "code",
   "execution_count": 34,
   "id": "f9b195ea",
   "metadata": {},
   "outputs": [],
   "source": [
    "pd.options.display.max_columns = None\n",
    "pd. set_option('display.max_rows', None)"
   ]
  },
  {
   "cell_type": "code",
   "execution_count": 35,
   "id": "08307ce2",
   "metadata": {},
   "outputs": [],
   "source": [
    "manga_data = []"
   ]
  },
  {
   "cell_type": "code",
   "execution_count": 36,
   "id": "34ba30eb",
   "metadata": {
    "scrolled": false
   },
   "outputs": [
    {
     "name": "stdout",
     "output_type": "stream",
     "text": [
      "https://api.jikan.moe/v4/top/manga?page=1\n",
      "https://api.jikan.moe/v4/top/manga?page=2\n",
      "https://api.jikan.moe/v4/top/manga?page=3\n",
      "https://api.jikan.moe/v4/top/manga?page=4\n",
      "https://api.jikan.moe/v4/top/manga?page=5\n",
      "https://api.jikan.moe/v4/top/manga?page=6\n",
      "https://api.jikan.moe/v4/top/manga?page=7\n",
      "https://api.jikan.moe/v4/top/manga?page=8\n"
     ]
    }
   ],
   "source": [
    "for pages in [1,2,3,4,5,6,7,8]:\n",
    "    url = 'https://api.jikan.moe/v4/top/manga?page='+str(pages)\n",
    "    mal_manga = r.get(url)\n",
    "    jmal_manga = mal_manga.json()\n",
    "    manga_data = manga_data+jmal_manga['data']\n",
    "    print(url)"
   ]
  },
  {
   "cell_type": "code",
   "execution_count": 37,
   "id": "2a7c6475",
   "metadata": {},
   "outputs": [],
   "source": [
    "dfm = pd.json_normalize(manga_data)"
   ]
  },
  {
   "cell_type": "code",
   "execution_count": 38,
   "id": "1d00fb21",
   "metadata": {
    "scrolled": true
   },
   "outputs": [
    {
     "name": "stdout",
     "output_type": "stream",
     "text": [
      "<class 'pandas.core.frame.DataFrame'>\n",
      "RangeIndex: 200 entries, 0 to 199\n",
      "Data columns (total 40 columns):\n",
      " #   Column                       Non-Null Count  Dtype  \n",
      "---  ------                       --------------  -----  \n",
      " 0   mal_id                       200 non-null    int64  \n",
      " 1   url                          200 non-null    object \n",
      " 2   title                        200 non-null    object \n",
      " 3   title_english                152 non-null    object \n",
      " 4   title_japanese               200 non-null    object \n",
      " 5   title_synonyms               200 non-null    object \n",
      " 6   type                         200 non-null    object \n",
      " 7   chapters                     126 non-null    float64\n",
      " 8   volumes                      127 non-null    float64\n",
      " 9   status                       200 non-null    object \n",
      " 10  publishing                   200 non-null    bool   \n",
      " 11  scored                       200 non-null    float64\n",
      " 12  scored_by                    200 non-null    int64  \n",
      " 13  rank                         200 non-null    int64  \n",
      " 14  popularity                   200 non-null    int64  \n",
      " 15  members                      200 non-null    int64  \n",
      " 16  favorites                    200 non-null    int64  \n",
      " 17  synopsis                     200 non-null    object \n",
      " 18  background                   174 non-null    object \n",
      " 19  authors                      200 non-null    object \n",
      " 20  serializations               200 non-null    object \n",
      " 21  genres                       200 non-null    object \n",
      " 22  explicit_genres              200 non-null    object \n",
      " 23  themes                       200 non-null    object \n",
      " 24  demographics                 200 non-null    object \n",
      " 25  images.jpg.image_url         200 non-null    object \n",
      " 26  images.jpg.small_image_url   200 non-null    object \n",
      " 27  images.jpg.large_image_url   200 non-null    object \n",
      " 28  images.webp.image_url        200 non-null    object \n",
      " 29  images.webp.small_image_url  200 non-null    object \n",
      " 30  images.webp.large_image_url  200 non-null    object \n",
      " 31  published.from               200 non-null    object \n",
      " 32  published.to                 124 non-null    object \n",
      " 33  published.prop.from.day      200 non-null    int64  \n",
      " 34  published.prop.from.month    200 non-null    int64  \n",
      " 35  published.prop.from.year     200 non-null    int64  \n",
      " 36  published.prop.to.day        124 non-null    float64\n",
      " 37  published.prop.to.month      124 non-null    float64\n",
      " 38  published.prop.to.year       124 non-null    float64\n",
      " 39  published.string             200 non-null    object \n",
      "dtypes: bool(1), float64(6), int64(9), object(24)\n",
      "memory usage: 61.3+ KB\n"
     ]
    }
   ],
   "source": [
    "dfm.info()"
   ]
  },
  {
   "cell_type": "code",
   "execution_count": 39,
   "id": "e8bbea77",
   "metadata": {},
   "outputs": [],
   "source": [
    "cols = [0,1,3,4,5,6,10,12,14,15,16,17,18,22,23,25,26,27,28,29,30,31,32,33,34,35,36,37,38,39]"
   ]
  },
  {
   "cell_type": "code",
   "execution_count": 40,
   "id": "4bbae91c",
   "metadata": {},
   "outputs": [],
   "source": [
    "dfm_new = dfm.drop(dfm.columns[cols],axis=1,inplace=False)"
   ]
  },
  {
   "cell_type": "code",
   "execution_count": 41,
   "id": "c692fb41",
   "metadata": {},
   "outputs": [
    {
     "name": "stdout",
     "output_type": "stream",
     "text": [
      "<class 'pandas.core.frame.DataFrame'>\n",
      "RangeIndex: 200 entries, 0 to 199\n",
      "Data columns (total 10 columns):\n",
      " #   Column          Non-Null Count  Dtype  \n",
      "---  ------          --------------  -----  \n",
      " 0   title           200 non-null    object \n",
      " 1   chapters        126 non-null    float64\n",
      " 2   volumes         127 non-null    float64\n",
      " 3   status          200 non-null    object \n",
      " 4   scored          200 non-null    float64\n",
      " 5   rank            200 non-null    int64  \n",
      " 6   authors         200 non-null    object \n",
      " 7   serializations  200 non-null    object \n",
      " 8   genres          200 non-null    object \n",
      " 9   demographics    200 non-null    object \n",
      "dtypes: float64(3), int64(1), object(6)\n",
      "memory usage: 15.8+ KB\n"
     ]
    }
   ],
   "source": [
    "dfm_new.info()"
   ]
  },
  {
   "cell_type": "code",
   "execution_count": 42,
   "id": "b2f4272b",
   "metadata": {},
   "outputs": [],
   "source": [
    "missing_mask = dfm_new['chapters'].isna() \n",
    "# Finds all NaN values in 'chapters' column and determines whether there are NaN values (boolean T/F)\n",
    "mapping_dict = dict({'Publishing': 'Ongoing'})\n",
    "# creates a dicitionary which finds all 'publishing' values and will allow for those values to be replaced to 'Ongoing'\n",
    "dfm_new.loc[missing_mask,'chapters'] = dfm_new.loc[missing_mask,'status'].map(mapping_dict)\n",
    "# creates a slice of the 'chapters' column which have NaN values and creates a loop with the map command \n",
    "# to go through the entire column\n",
    "dfm_new['chapters'] = dfm_new['chapters'].fillna('Ongoing')\n",
    "# uses the fillna command to fill all NaN values with 'Ongoing'\n",
    "\n",
    "dfm_new.loc[dfm_new['volumes'].isna(),'volumes'] = dfm_new.loc[dfm_new['volumes'].isna()]['chapters']\n",
    "# Finds all NaN values in the 'volumes' column and changes them to be equal to the values\n",
    "# in the same row in the 'chapters column'"
   ]
  },
  {
   "cell_type": "code",
   "execution_count": 43,
   "id": "f649a6f1",
   "metadata": {},
   "outputs": [
    {
     "data": {
      "text/plain": [
       "[{'mal_id': 2,\n",
       "  'type': 'manga',\n",
       "  'name': 'Young Animal',\n",
       "  'url': 'https://myanimelist.net/manga/magazine/2/Young_Animal'}]"
      ]
     },
     "execution_count": 43,
     "metadata": {},
     "output_type": "execute_result"
    }
   ],
   "source": [
    "dfm_new['serializations'][0]\n",
    "# looks at the first value in the 'serialization' column"
   ]
  },
  {
   "cell_type": "code",
   "execution_count": 44,
   "id": "95f0d040",
   "metadata": {
    "scrolled": true
   },
   "outputs": [],
   "source": [
    "dfm_new['authors'] = dfm_new['authors'].map(lambda authors: [author['name'] for author in authors])\n",
    "# takes the first value of the 'authors' column and creates a map \n",
    "# similar to the above one where it loops through the entire column.\n",
    "# the map allows for a function which uses a custom function (lambda) to take only the author's name in the dictionary"
   ]
  },
  {
   "cell_type": "code",
   "execution_count": 45,
   "id": "4fad7c55",
   "metadata": {},
   "outputs": [],
   "source": [
    "dfm_new['serializations'] = dfm_new['serializations'].map(lambda serializations: [serialization['name'] for serialization in serializations])"
   ]
  },
  {
   "cell_type": "code",
   "execution_count": 46,
   "id": "5658cba1",
   "metadata": {},
   "outputs": [],
   "source": [
    "dfm_new['genres'] = dfm_new['genres'].map(lambda genres: [genre['name'] for genre in genres])"
   ]
  },
  {
   "cell_type": "code",
   "execution_count": 47,
   "id": "06e1e08b",
   "metadata": {},
   "outputs": [],
   "source": [
    "dfm_new['demographics'] = dfm_new['demographics'].map(lambda demographics: [demographic['name'] for demographic in demographics])"
   ]
  },
  {
   "cell_type": "code",
   "execution_count": 48,
   "id": "3dcbb6af",
   "metadata": {},
   "outputs": [],
   "source": [
    "# dfm_new.to_excel(r'C:\\Users\\hirok\\OneDrive\\Documents\\Data Analysis\\MAL Project\\dfm_new.xlsx',index = False, header = True)"
   ]
  },
  {
   "cell_type": "code",
   "execution_count": 49,
   "id": "a77b9b0d",
   "metadata": {},
   "outputs": [
    {
     "data": {
      "text/html": [
       "<div>\n",
       "<style scoped>\n",
       "    .dataframe tbody tr th:only-of-type {\n",
       "        vertical-align: middle;\n",
       "    }\n",
       "\n",
       "    .dataframe tbody tr th {\n",
       "        vertical-align: top;\n",
       "    }\n",
       "\n",
       "    .dataframe thead th {\n",
       "        text-align: right;\n",
       "    }\n",
       "</style>\n",
       "<table border=\"1\" class=\"dataframe\">\n",
       "  <thead>\n",
       "    <tr style=\"text-align: right;\">\n",
       "      <th></th>\n",
       "      <th>title</th>\n",
       "      <th>chapters</th>\n",
       "      <th>volumes</th>\n",
       "      <th>status</th>\n",
       "      <th>scored</th>\n",
       "      <th>rank</th>\n",
       "      <th>authors</th>\n",
       "      <th>serializations</th>\n",
       "      <th>genres</th>\n",
       "      <th>demographics</th>\n",
       "    </tr>\n",
       "  </thead>\n",
       "  <tbody>\n",
       "    <tr>\n",
       "      <th>0</th>\n",
       "      <td>Berserk</td>\n",
       "      <td>380.0</td>\n",
       "      <td>41.0</td>\n",
       "      <td>On Hiatus</td>\n",
       "      <td>9.43</td>\n",
       "      <td>1</td>\n",
       "      <td>[Miura, Kentarou]</td>\n",
       "      <td>[Young Animal]</td>\n",
       "      <td>[Action, Adventure, Drama, Fantasy, Horror, Su...</td>\n",
       "      <td>[Seinen]</td>\n",
       "    </tr>\n",
       "    <tr>\n",
       "      <th>1</th>\n",
       "      <td>JoJo no Kimyou na Bouken Part 7: Steel Ball Run</td>\n",
       "      <td>96.0</td>\n",
       "      <td>24.0</td>\n",
       "      <td>Finished</td>\n",
       "      <td>9.27</td>\n",
       "      <td>2</td>\n",
       "      <td>[Araki, Hirohiko]</td>\n",
       "      <td>[Ultra Jump]</td>\n",
       "      <td>[Action, Adventure, Horror, Mystery, Supernatu...</td>\n",
       "      <td>[Seinen, Shounen]</td>\n",
       "    </tr>\n",
       "    <tr>\n",
       "      <th>2</th>\n",
       "      <td>One Piece</td>\n",
       "      <td>Ongoing</td>\n",
       "      <td>Ongoing</td>\n",
       "      <td>Publishing</td>\n",
       "      <td>9.17</td>\n",
       "      <td>3</td>\n",
       "      <td>[Oda, Eiichiro]</td>\n",
       "      <td>[Shounen Jump (Weekly)]</td>\n",
       "      <td>[Action, Adventure, Comedy, Fantasy]</td>\n",
       "      <td>[Shounen]</td>\n",
       "    </tr>\n",
       "    <tr>\n",
       "      <th>3</th>\n",
       "      <td>Vagabond</td>\n",
       "      <td>327.0</td>\n",
       "      <td>37.0</td>\n",
       "      <td>On Hiatus</td>\n",
       "      <td>9.16</td>\n",
       "      <td>4</td>\n",
       "      <td>[Inoue, Takehiko, Yoshikawa, Eiji]</td>\n",
       "      <td>[Morning]</td>\n",
       "      <td>[Action, Adventure, Drama]</td>\n",
       "      <td>[Seinen]</td>\n",
       "    </tr>\n",
       "    <tr>\n",
       "      <th>4</th>\n",
       "      <td>Monster</td>\n",
       "      <td>162.0</td>\n",
       "      <td>18.0</td>\n",
       "      <td>Finished</td>\n",
       "      <td>9.12</td>\n",
       "      <td>5</td>\n",
       "      <td>[Urasawa, Naoki]</td>\n",
       "      <td>[Big Comic Original]</td>\n",
       "      <td>[Drama, Mystery]</td>\n",
       "      <td>[Seinen]</td>\n",
       "    </tr>\n",
       "  </tbody>\n",
       "</table>\n",
       "</div>"
      ],
      "text/plain": [
       "                                             title chapters  volumes  \\\n",
       "0                                          Berserk    380.0     41.0   \n",
       "1  JoJo no Kimyou na Bouken Part 7: Steel Ball Run     96.0     24.0   \n",
       "2                                        One Piece  Ongoing  Ongoing   \n",
       "3                                         Vagabond    327.0     37.0   \n",
       "4                                          Monster    162.0     18.0   \n",
       "\n",
       "       status  scored  rank                             authors  \\\n",
       "0   On Hiatus    9.43     1                   [Miura, Kentarou]   \n",
       "1    Finished    9.27     2                   [Araki, Hirohiko]   \n",
       "2  Publishing    9.17     3                     [Oda, Eiichiro]   \n",
       "3   On Hiatus    9.16     4  [Inoue, Takehiko, Yoshikawa, Eiji]   \n",
       "4    Finished    9.12     5                    [Urasawa, Naoki]   \n",
       "\n",
       "            serializations                                             genres  \\\n",
       "0           [Young Animal]  [Action, Adventure, Drama, Fantasy, Horror, Su...   \n",
       "1             [Ultra Jump]  [Action, Adventure, Horror, Mystery, Supernatu...   \n",
       "2  [Shounen Jump (Weekly)]               [Action, Adventure, Comedy, Fantasy]   \n",
       "3                [Morning]                         [Action, Adventure, Drama]   \n",
       "4     [Big Comic Original]                                   [Drama, Mystery]   \n",
       "\n",
       "        demographics  \n",
       "0           [Seinen]  \n",
       "1  [Seinen, Shounen]  \n",
       "2          [Shounen]  \n",
       "3           [Seinen]  \n",
       "4           [Seinen]  "
      ]
     },
     "execution_count": 49,
     "metadata": {},
     "output_type": "execute_result"
    }
   ],
   "source": [
    "dfm_new.head()"
   ]
  },
  {
   "cell_type": "code",
   "execution_count": 50,
   "id": "412a04f2",
   "metadata": {},
   "outputs": [
    {
     "name": "stdout",
     "output_type": "stream",
     "text": [
      "<class 'pandas.core.frame.DataFrame'>\n",
      "RangeIndex: 200 entries, 0 to 199\n",
      "Data columns (total 10 columns):\n",
      " #   Column          Non-Null Count  Dtype  \n",
      "---  ------          --------------  -----  \n",
      " 0   title           200 non-null    object \n",
      " 1   chapters        200 non-null    object \n",
      " 2   volumes         200 non-null    object \n",
      " 3   status          200 non-null    object \n",
      " 4   scored          200 non-null    float64\n",
      " 5   rank            200 non-null    int64  \n",
      " 6   authors         200 non-null    object \n",
      " 7   serializations  200 non-null    object \n",
      " 8   genres          200 non-null    object \n",
      " 9   demographics    200 non-null    object \n",
      "dtypes: float64(1), int64(1), object(8)\n",
      "memory usage: 15.8+ KB\n"
     ]
    }
   ],
   "source": [
    "dfm_new.info()"
   ]
  },
  {
   "cell_type": "code",
   "execution_count": 51,
   "id": "f4c6b25d",
   "metadata": {},
   "outputs": [],
   "source": [
    "colz = [1,2,3,4,6,7]"
   ]
  },
  {
   "cell_type": "code",
   "execution_count": 52,
   "id": "8590855c",
   "metadata": {},
   "outputs": [],
   "source": [
    "dfm_use = dfm_new.drop(dfm_new.columns[colz],axis=1,inplace=False)"
   ]
  },
  {
   "cell_type": "code",
   "execution_count": 53,
   "id": "521feca7",
   "metadata": {},
   "outputs": [
    {
     "name": "stdout",
     "output_type": "stream",
     "text": [
      "<class 'pandas.core.frame.DataFrame'>\n",
      "RangeIndex: 200 entries, 0 to 199\n",
      "Data columns (total 4 columns):\n",
      " #   Column        Non-Null Count  Dtype \n",
      "---  ------        --------------  ----- \n",
      " 0   title         200 non-null    object\n",
      " 1   rank          200 non-null    int64 \n",
      " 2   genres        200 non-null    object\n",
      " 3   demographics  200 non-null    object\n",
      "dtypes: int64(1), object(3)\n",
      "memory usage: 6.4+ KB\n"
     ]
    }
   ],
   "source": [
    "dfm_use.info()"
   ]
  },
  {
   "cell_type": "code",
   "execution_count": 54,
   "id": "2503292d",
   "metadata": {},
   "outputs": [
    {
     "data": {
      "text/html": [
       "<div>\n",
       "<style scoped>\n",
       "    .dataframe tbody tr th:only-of-type {\n",
       "        vertical-align: middle;\n",
       "    }\n",
       "\n",
       "    .dataframe tbody tr th {\n",
       "        vertical-align: top;\n",
       "    }\n",
       "\n",
       "    .dataframe thead th {\n",
       "        text-align: right;\n",
       "    }\n",
       "</style>\n",
       "<table border=\"1\" class=\"dataframe\">\n",
       "  <thead>\n",
       "    <tr style=\"text-align: right;\">\n",
       "      <th></th>\n",
       "      <th>title</th>\n",
       "      <th>rank</th>\n",
       "      <th>genres</th>\n",
       "      <th>demographics</th>\n",
       "    </tr>\n",
       "  </thead>\n",
       "  <tbody>\n",
       "    <tr>\n",
       "      <th>0</th>\n",
       "      <td>Berserk</td>\n",
       "      <td>1</td>\n",
       "      <td>[Action, Adventure, Drama, Fantasy, Horror, Su...</td>\n",
       "      <td>[Seinen]</td>\n",
       "    </tr>\n",
       "    <tr>\n",
       "      <th>1</th>\n",
       "      <td>JoJo no Kimyou na Bouken Part 7: Steel Ball Run</td>\n",
       "      <td>2</td>\n",
       "      <td>[Action, Adventure, Horror, Mystery, Supernatu...</td>\n",
       "      <td>[Seinen, Shounen]</td>\n",
       "    </tr>\n",
       "    <tr>\n",
       "      <th>2</th>\n",
       "      <td>One Piece</td>\n",
       "      <td>3</td>\n",
       "      <td>[Action, Adventure, Comedy, Fantasy]</td>\n",
       "      <td>[Shounen]</td>\n",
       "    </tr>\n",
       "    <tr>\n",
       "      <th>3</th>\n",
       "      <td>Vagabond</td>\n",
       "      <td>4</td>\n",
       "      <td>[Action, Adventure, Drama]</td>\n",
       "      <td>[Seinen]</td>\n",
       "    </tr>\n",
       "    <tr>\n",
       "      <th>4</th>\n",
       "      <td>Monster</td>\n",
       "      <td>5</td>\n",
       "      <td>[Drama, Mystery]</td>\n",
       "      <td>[Seinen]</td>\n",
       "    </tr>\n",
       "  </tbody>\n",
       "</table>\n",
       "</div>"
      ],
      "text/plain": [
       "                                             title  rank  \\\n",
       "0                                          Berserk     1   \n",
       "1  JoJo no Kimyou na Bouken Part 7: Steel Ball Run     2   \n",
       "2                                        One Piece     3   \n",
       "3                                         Vagabond     4   \n",
       "4                                          Monster     5   \n",
       "\n",
       "                                              genres       demographics  \n",
       "0  [Action, Adventure, Drama, Fantasy, Horror, Su...           [Seinen]  \n",
       "1  [Action, Adventure, Horror, Mystery, Supernatu...  [Seinen, Shounen]  \n",
       "2               [Action, Adventure, Comedy, Fantasy]          [Shounen]  \n",
       "3                         [Action, Adventure, Drama]           [Seinen]  \n",
       "4                                   [Drama, Mystery]           [Seinen]  "
      ]
     },
     "execution_count": 54,
     "metadata": {},
     "output_type": "execute_result"
    }
   ],
   "source": [
    "dfm_use.head()"
   ]
  },
  {
   "cell_type": "code",
   "execution_count": 55,
   "id": "e8243d65",
   "metadata": {},
   "outputs": [
    {
     "data": {
      "text/plain": [
       "['Action', 'Adventure', 'Drama', 'Fantasy', 'Horror', 'Supernatural']"
      ]
     },
     "execution_count": 55,
     "metadata": {},
     "output_type": "execute_result"
    }
   ],
   "source": [
    "dfm_use['genres'][0]"
   ]
  },
  {
   "cell_type": "code",
   "execution_count": 56,
   "id": "46e0cab7",
   "metadata": {},
   "outputs": [],
   "source": [
    "dfm_use.to_excel(r'C:\\Users\\hirok\\OneDrive\\Documents\\Data Analysis\\MAL Project\\dfm_use.xlsx',index = False, header = True)"
   ]
  },
  {
   "cell_type": "code",
   "execution_count": null,
   "id": "b43fc3ff",
   "metadata": {},
   "outputs": [],
   "source": []
  }
 ],
 "metadata": {
  "kernelspec": {
   "display_name": "Python 3 (ipykernel)",
   "language": "python",
   "name": "python3"
  },
  "language_info": {
   "codemirror_mode": {
    "name": "ipython",
    "version": 3
   },
   "file_extension": ".py",
   "mimetype": "text/x-python",
   "name": "python",
   "nbconvert_exporter": "python",
   "pygments_lexer": "ipython3",
   "version": "3.9.5"
  }
 },
 "nbformat": 4,
 "nbformat_minor": 5
}
